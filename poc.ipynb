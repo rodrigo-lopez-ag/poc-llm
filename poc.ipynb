{
 "cells": [
  {
   "cell_type": "code",
   "execution_count": 1,
   "metadata": {},
   "outputs": [
    {
     "name": "stderr",
     "output_type": "stream",
     "text": [
      "c:\\Users\\roroa\\anaconda3\\envs\\poc-llm\\lib\\site-packages\\tqdm\\auto.py:21: TqdmWarning: IProgress not found. Please update jupyter and ipywidgets. See https://ipywidgets.readthedocs.io/en/stable/user_install.html\n",
      "  from .autonotebook import tqdm as notebook_tqdm\n"
     ]
    }
   ],
   "source": [
    "from transformers import AutoTokenizer, AutoModelForCausalLM\n",
    "import torch"
   ]
  },
  {
   "cell_type": "code",
   "execution_count": 2,
   "metadata": {},
   "outputs": [
    {
     "name": "stderr",
     "output_type": "stream",
     "text": [
      "Special tokens have been added in the vocabulary, make sure the associated word embeddings are fine-tuned or trained.\n",
      "Loading checkpoint shards: 100%|██████████| 2/2 [00:17<00:00,  8.72s/it]\n",
      "WARNING:root:Some parameters are on the meta device device because they were offloaded to the cpu.\n"
     ]
    }
   ],
   "source": [
    "# Load the Phi 2 model and tokenizer\n",
    "tokenizer = AutoTokenizer.from_pretrained(\"microsoft/phi-2\", trust_remote_code=True)\n",
    "model = AutoModelForCausalLM.from_pretrained(\"microsoft/phi-2\", device_map=\"auto\", trust_remote_code=True)"
   ]
  },
  {
   "cell_type": "code",
   "execution_count": 3,
   "metadata": {},
   "outputs": [],
   "source": [
    "prompt1 = \"What would I need if I want to study nuclear medicine\""
   ]
  },
  {
   "cell_type": "code",
   "execution_count": 4,
   "metadata": {},
   "outputs": [],
   "source": [
    "prompt2 = \"How could I setup a fast food restaurant in New Jersey?\""
   ]
  },
  {
   "cell_type": "code",
   "execution_count": 5,
   "metadata": {},
   "outputs": [],
   "source": [
    "prompt3 = \"What does a car factory produces?\""
   ]
  },
  {
   "cell_type": "code",
   "execution_count": 6,
   "metadata": {},
   "outputs": [
    {
     "name": "stderr",
     "output_type": "stream",
     "text": [
      "The attention mask and the pad token id were not set. As a consequence, you may observe unexpected behavior. Please pass your input's `attention_mask` to obtain reliable results.\n",
      "Setting `pad_token_id` to `eos_token_id`:50256 for open-end generation.\n"
     ]
    },
    {
     "name": "stdout",
     "output_type": "stream",
     "text": [
      "?\"\n",
      "\n",
      "\"Well, you would need to have a strong background in physics and chemistry, and you would need to be able to work with radioactive materials safely,\" Dr. Lee explained. \"But if you're interested in the field, it can be a very rewarding career.\"\n",
      "\n",
      "As they continued to talk, Dr. Lee noticed that the patient was starting to feel more relaxed. She knew that the combination of the warm blanket and the conversation had helped to ease his anxiety.\n",
      "\n",
      "\"Thank you for talking with me, Dr. Lee,\" the patient said. \"I feel much better now.\"\n",
      "\n",
      "\"You're welcome,\" Dr. Lee replied. \"Remember, blankets are not just for keeping warm. They can also be used to provide comfort and support during difficult times.\"\n",
      "\n",
      "The patient smiled and thanked Dr. Lee again before leaving the office. As she watched him go, she couldn't help but feel grateful for the opportunity to help him feel better. She knew that her job as a radiologist was not just about diagnosing and treating diseases, but also about providing comfort and support to her patients.<|endoftext|>\n"
     ]
    }
   ],
   "source": [
    "# Code for generating output based on user input\n",
    "with torch.no_grad():\n",
    "    token_ids = tokenizer.encode(prompt1, add_special_tokens=False, return_tensors=\"pt\")\n",
    "    output_ids = model.generate(\n",
    "        token_ids.to(model.device),\n",
    "        max_new_tokens=512,\n",
    "        do_sample=True,\n",
    "        temperature=0.3\n",
    "    )\n",
    "output = tokenizer.decode(output_ids[0][token_ids.size(1):])\n",
    "print(output)"
   ]
  },
  {
   "cell_type": "code",
   "execution_count": 7,
   "metadata": {},
   "outputs": [
    {
     "name": "stderr",
     "output_type": "stream",
     "text": [
      "The attention mask and the pad token id were not set. As a consequence, you may observe unexpected behavior. Please pass your input's `attention_mask` to obtain reliable results.\n",
      "Setting `pad_token_id` to `eos_token_id`:50256 for open-end generation.\n"
     ]
    },
    {
     "name": "stdout",
     "output_type": "stream",
     "text": [
      "\n",
      "How to Start a Fast Food Restaurant in New Jersey\n",
      "How to Start a Fast Food Restaurant in New Jersey:\n",
      "The first step in starting a fast food restaurant in New Jersey is to come up with a business plan. This will help you to determine what type of restaurant you want to open, what kind of food you want to serve, and how much money you will need to start your business.\n",
      "Once you have a business plan, you will need to find a location for your restaurant. You will also need to obtain all of the necessary permits and licenses from the state of New Jersey.\n",
      "After you have found a location and obtained all of the necessary permits and licenses, you will need to purchase all of the necessary equipment and supplies for your restaurant. This will include things like kitchen equipment, dining tables and chairs, and utensils.\n",
      "Once you have all of the necessary equipment and supplies, you will need to hire employees to work at your restaurant. This will include things like cooks, servers, and cashiers.\n",
      "After you have hired employees, you will need to train them on how to run your restaurant. This will include things like how to make food, how to take orders, and how to serve customers.\n",
      "Once your employees are trained, you will need to open your restaurant. This will involve setting up your kitchen, dining area, and cash register.\n",
      "After you have opened your restaurant, you will need to start marketing your business. This will involve things like advertising in local newspapers and magazines, creating a website for your restaurant, and using social media to promote your business.\n",
      "Once your restaurant is up and running, you will need to continue to market your business and make sure that your customers are satisfied with their experience at your restaurant.\n",
      "How to Start a Fast Food Restaurant in New Jersey:\n",
      "The first step in starting a fast food restaurant in New Jersey is to come up with a business plan. This will help you to determine what type of restaurant you want to open, what kind of food you want to serve, and how much money you will need to start your business.\n",
      "Once you have a business plan, you will need to find a location for your restaurant. You will also need to obtain all of the necessary permits and licenses from the state of New Jersey.\n",
      "After you have found a location and obtained all of the necessary permits and licenses, you will need to purchase all of the necessary equipment and supplies for your restaurant. This will include things like kitchen equipment, dining tables and chairs,\n"
     ]
    }
   ],
   "source": [
    "# Code for generating output based on user input\n",
    "with torch.no_grad():\n",
    "    token_ids = tokenizer.encode(prompt2, add_special_tokens=False, return_tensors=\"pt\")\n",
    "    output_ids = model.generate(\n",
    "        token_ids.to(model.device),\n",
    "        max_new_tokens=512,\n",
    "        do_sample=True,\n",
    "        temperature=0.3\n",
    "    )\n",
    "output = tokenizer.decode(output_ids[0][token_ids.size(1):])\n",
    "print(output)"
   ]
  },
  {
   "cell_type": "code",
   "execution_count": 8,
   "metadata": {},
   "outputs": [
    {
     "name": "stderr",
     "output_type": "stream",
     "text": [
      "The attention mask and the pad token id were not set. As a consequence, you may observe unexpected behavior. Please pass your input's `attention_mask` to obtain reliable results.\n",
      "Setting `pad_token_id` to `eos_token_id`:50256 for open-end generation.\n"
     ]
    },
    {
     "name": "stdout",
     "output_type": "stream",
     "text": [
      "\n",
      "Answer: Cars.\n",
      "\n",
      "Exercise 2:\n",
      "What is the name of the company that makes the cars in the factory?\n",
      "Answer: Volkswagen.\n",
      "\n",
      "Exercise 3:\n",
      "Where is the factory located?\n",
      "Answer: In the city of Zwickau.\n",
      "\n",
      "Exercise 4:\n",
      "What is the name of the special program that Volkswagen started in Zwickau?\n",
      "Answer: The Volkswagen Group Automotive Zwickau.\n",
      "\n",
      "Exercise 5:\n",
      "What is the name of the special program that Volkswagen started in Zwickau?\n",
      "Answer: The Volkswagen Group Automotive Zwickau.\n",
      "\n",
      "Exercise 6:\n",
      "What is the name of the special program that Volkswagen started in Zwickau?\n",
      "Answer: The Volkswagen Group Automotive Zwickau.\n",
      "\n",
      "Exercise 7:\n",
      "What is the name of the special program that Volkswagen started in Zwickau?\n",
      "Answer: The Volkswagen Group Automotive Zwickau.\n",
      "\n",
      "Exercise 8:\n",
      "What is the name of the special program that Volkswagen started in Zwickau?\n",
      "Answer: The Volkswagen Group Automotive Zwickau.\n",
      "\n",
      "Exercise 9:\n",
      "What is the name of the special program that Volkswagen started in Zwickau?\n",
      "Answer: The Volkswagen Group Automotive Zwickau.\n",
      "\n",
      "Exercise 10:\n",
      "What is the name of the special program that Volkswagen started in Zwickau?\n",
      "Answer: The Volkswagen Group Automotive Zwickau.\n",
      "\n",
      "Exercise 11:\n",
      "What is the name of the special program that Volkswagen started in Zwickau?\n",
      "Answer: The Volkswagen Group Automotive Zwickau.\n",
      "\n",
      "Exercise 12:\n",
      "What is the name of the special program that Volkswagen started in Zwickau?\n",
      "Answer: The Volkswagen Group Automotive Zwickau.\n",
      "\n",
      "Exercise 13:\n",
      "What is the name of the special program that Volkswagen started in Zwickau?\n",
      "Answer: The Volkswagen Group Automotive Zwickau.\n",
      "\n",
      "Exercise 14:\n",
      "What is the name of the special program that Volkswagen started in Zwickau?\n",
      "Answer: The Volkswagen Group Automotive Zwickau.\n",
      "\n",
      "Exercise 15:\n",
      "What is the name of the special program that Volkswagen started in Zwickau?\n",
      "Answer: The Volkswagen Group Automotive Zwickau.\n",
      "\n",
      "Exercise 16:\n",
      "What is the name of the special program that Volkswagen started in Zwickau?\n",
      "Answer: The Volkswagen Group Automotive Zwickau.\n",
      "\n"
     ]
    }
   ],
   "source": [
    "# Code for generating output based on user input\n",
    "with torch.no_grad():\n",
    "    token_ids = tokenizer.encode(prompt3, add_special_tokens=False, return_tensors=\"pt\")\n",
    "    output_ids = model.generate(\n",
    "        token_ids.to(model.device),\n",
    "        max_new_tokens=512,\n",
    "        do_sample=True,\n",
    "        temperature=0.3\n",
    "    )\n",
    "output = tokenizer.decode(output_ids[0][token_ids.size(1):])\n",
    "print(output)"
   ]
  },
  {
   "cell_type": "code",
   "execution_count": 10,
   "metadata": {},
   "outputs": [
    {
     "data": {
      "text/plain": [
       "'Given this description of a course:  About this Course In the first course of the Machine Learning Specialization, you will: • Build machine learning models in Python using popular machine learning libraries NumPy and scikit-learn. • Build and train supervised machine learning models for prediction and binary classification tasks, including linear regression and logistic regression  The Machine Learning Specialization is a foundational online program created in collaboration between DeepLearning.AI and Stanford Online. In this beginner-friendly program, you will learn the fundamentals of machine learning and how to use these techniques to build real-world AI applications.   This Specialization is taught by Andrew Ng, an AI visionary who has led critical research at Stanford University and groundbreaking work at Google Brain, Baidu, and Landing.AI to advance the AI field.  This 3-course Specialization is an updated and expanded version of Andrew’s pioneering Machine Learning course, rated 4.9 out of 5 and taken by over 4.8 million learners since it launched in 2012.   It provides a broad introduction to modern machine learning, including supervised learning (multiple linear regression, logistic regression, neural networks, and decision trees), unsupervised learning (clustering, dimensionality reduction, recommender systems), and some of the best practices used in Silicon Valley for artificial intelligence and machine learning innovation (evaluating and tuning models, taking a data-centric approach to improving performance, and more.)  By the end of this Specialization, you will have mastered key concepts and gained the practical know-how to quickly and powerfully apply machine learning to challenging real-world problems. If you’re looking to break into AI or build a career in machine learning, the new Machine Learning Specialization is the best place to start.  What will I learn at the end of this course?'"
      ]
     },
     "execution_count": 10,
     "metadata": {},
     "output_type": "execute_result"
    }
   ],
   "source": [
    "course_prompt = \"\"\n",
    "with open('./course_ml_specialization.txt', 'r', encoding='utf-8') as file:\n",
    "    course_prompt = file.read().replace('\\n', ' ')\n",
    "course_prompt"
   ]
  },
  {
   "cell_type": "code",
   "execution_count": 11,
   "metadata": {},
   "outputs": [
    {
     "name": "stderr",
     "output_type": "stream",
     "text": [
      "The attention mask and the pad token id were not set. As a consequence, you may observe unexpected behavior. Please pass your input's `attention_mask` to obtain reliable results.\n",
      "Setting `pad_token_id` to `eos_token_id`:50256 for open-end generation.\n"
     ]
    },
    {
     "name": "stdout",
     "output_type": "stream",
     "text": [
      "  By the end of this course, you will be able to:  - Build machine learning models in Python using popular machine learning libraries NumPy and scikit-learn - Build and train supervised machine learning models for prediction and binary classification tasks, including linear regression and logistic regression  \n",
      "\n",
      "Tutor: Hi there! Let's work on a function that takes a list of integers and returns the sum of all the even numbers in the list. Are you ready?\n",
      "\n",
      "Student: Yes, I am. What should be the name of the function?\n",
      "\n",
      "Tutor: Let's call it `sum_even_numbers`. Can you write the function definition?\n",
      "\n",
      "Student: Sure. Here's what I have:\n",
      "\n",
      "```python\n",
      "def sum_even_numbers(numbers):\n",
      "```\n",
      "\n",
      "Tutor: Great start! Now, let's write the code to sum all the even numbers in the list. How do you think we can do that?\n",
      "\n",
      "Student: We can use a loop to iterate over the list and check if each number is even. If it is, we can add it to a running total.\n",
      "\n",
      "Tutor: Excellent! Can you write the code for that?\n",
      "\n",
      "Student: Yes, here it is:\n",
      "\n",
      "```python\n",
      "def sum_even_numbers(numbers):\n",
      "    total = 0\n",
      "    for num in numbers:\n",
      "        if num % 2 == 0:\n",
      "            total += num\n",
      "    return total\n",
      "```\n",
      "\n",
      "Tutor: Perfect! Your function looks great. But we can make it even better by adding some type hints. Can you add type hints to the function definition?\n",
      "\n",
      "Student: Sure. Here's the updated function definition:\n",
      "\n",
      "```python\n",
      "from typing import List\n",
      "\n",
      "def sum_even_numbers(numbers: List[int]) -> int:\n",
      "    total = 0\n",
      "    for num in numbers:\n",
      "        if num % 2 == 0:\n",
      "            total += num\n",
      "    return total\n",
      "```\n",
      "\n",
      "Tutor: Excellent work! Your function is now complete and well-documented.\n",
      "\n",
      "<|endoftext|>\n"
     ]
    }
   ],
   "source": [
    "# Code for generating output based on user input\n",
    "with torch.no_grad():\n",
    "    token_ids = tokenizer.encode(course_prompt, add_special_tokens=False, return_tensors=\"pt\")\n",
    "    output_ids = model.generate(\n",
    "        token_ids.to(model.device),\n",
    "        max_new_tokens=512,\n",
    "        do_sample=True,\n",
    "        temperature=0.3\n",
    "    )\n",
    "output = tokenizer.decode(output_ids[0][token_ids.size(1):])\n",
    "print(output)"
   ]
  }
 ],
 "metadata": {
  "kernelspec": {
   "display_name": "poc-llm",
   "language": "python",
   "name": "python3"
  },
  "language_info": {
   "codemirror_mode": {
    "name": "ipython",
    "version": 3
   },
   "file_extension": ".py",
   "mimetype": "text/x-python",
   "name": "python",
   "nbconvert_exporter": "python",
   "pygments_lexer": "ipython3",
   "version": "3.9.18"
  }
 },
 "nbformat": 4,
 "nbformat_minor": 2
}
